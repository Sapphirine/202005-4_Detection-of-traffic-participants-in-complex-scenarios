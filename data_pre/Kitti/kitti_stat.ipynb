{
 "cells": [
  {
   "cell_type": "code",
   "execution_count": 5,
   "metadata": {},
   "outputs": [],
   "source": [
    "import numpy as np\n",
    "import pandas as pd\n",
    "import os"
   ]
  },
  {
   "cell_type": "code",
   "execution_count": 10,
   "metadata": {},
   "outputs": [],
   "source": [
    "path = \"G:/darknet-master/darknet-master/build/darknet/x64/data/train_images\""
   ]
  },
  {
   "cell_type": "code",
   "execution_count": 3,
   "metadata": {},
   "outputs": [],
   "source": [
    "label_set = ['Car', 'Van', 'Truck','Pedestrian', 'Person_sitting', 'Cyclist', 'Tram','Misc'] "
   ]
  },
  {
   "cell_type": "code",
   "execution_count": 19,
   "metadata": {},
   "outputs": [
    {
     "name": "stdout",
     "output_type": "stream",
     "text": [
      "work done!\n"
     ]
    }
   ],
   "source": [
    "d = dict(zip(label_set,[0 for _ in range(len(label_set))]))\n",
    "for i in range(5001):\n",
    "    file  = os.path.join(path, \"%06d.txt\" % (i))\n",
    "    with open(file,'r',encoding='utf-8') as f:\n",
    "        lines = f.readlines()\n",
    "        for line in lines:\n",
    "            l_res = []\n",
    "            l = line.split()\n",
    "            ind = int(l[0])\n",
    "            d[label_set[ind]] += 1\n",
    "            \n",
    "    \n",
    "\n",
    "    \n",
    "print(\"work done!\")"
   ]
  },
  {
   "cell_type": "code",
   "execution_count": 20,
   "metadata": {},
   "outputs": [
    {
     "data": {
      "text/plain": [
       "{'Car': 19081,\n",
       " 'Van': 1957,\n",
       " 'Truck': 724,\n",
       " 'Pedestrian': 3042,\n",
       " 'Person_sitting': 145,\n",
       " 'Cyclist': 1124,\n",
       " 'Tram': 344,\n",
       " 'Misc': 651}"
      ]
     },
     "execution_count": 20,
     "metadata": {},
     "output_type": "execute_result"
    }
   ],
   "source": [
    "d"
   ]
  },
  {
   "cell_type": "code",
   "execution_count": 31,
   "metadata": {},
   "outputs": [
    {
     "data": {
      "image/png": "[encoded data removed]",
      "text/plain": [
       "<Figure size 432x288 with 1 Axes>"
      ]
     },
     "metadata": {
      "needs_background": "light"
     },
     "output_type": "display_data"
    }
   ],
   "source": [
    "import matplotlib.pyplot as plt\n",
    "import time\n",
    "\n",
    "source_data = d\n",
    "\n",
    "for a, b in source_data.items():\n",
    "    plt.text(a, b + 0.05, '%.0f' % b, ha='center', va='bottom', fontsize=11)  \n",
    "\n",
    "\n",
    "x_axis = tuple(source_data.keys())\n",
    "y_axis = tuple(source_data.values())\n",
    "plt.bar(x_axis, y_axis)  \n",
    "\n",
    "plt.xlabel(\"classes\") \n",
    "plt.xticks(rotation=45)\n",
    "plt.ylabel(\"number of objects\") \n",
    "plt.title(\"kitti_statistics\")  \n",
    "plt.ylim(0,20000) \n",
    "plt.savefig(\"KITTI_stat.png\")\n",
    "plt.show()"
   ]
  },
  {
   "cell_type": "code",
   "execution_count": null,
   "metadata": {},
   "outputs": [],
   "source": []
  }
 ],
 "metadata": {
  "kernelspec": {
   "display_name": "tf_gpu",
   "language": "python",
   "name": "tensorflow"
  },
  "language_info": {
   "codemirror_mode": {
    "name": "ipython",
    "version": 3
   },
   "file_extension": ".py",
   "mimetype": "text/x-python",
   "name": "python",
   "nbconvert_exporter": "python",
   "pygments_lexer": "ipython3",
   "version": "3.6.10"
  }
 },
 "nbformat": 4,
 "nbformat_minor": 2
}
