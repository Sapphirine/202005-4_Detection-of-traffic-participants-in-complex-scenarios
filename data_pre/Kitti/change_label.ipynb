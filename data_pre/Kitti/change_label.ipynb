{
 "cells": [
  {
   "cell_type": "code",
   "execution_count": 1,
   "metadata": {},
   "outputs": [],
   "source": [
    "import PIL\n",
    "from PIL import Image\n",
    "from tqdm.notebook import tqdm"
   ]
  },
  {
   "cell_type": "code",
   "execution_count": 2,
   "metadata": {},
   "outputs": [],
   "source": [
    "path = './label_2'\n",
    "ppath = 'G:/Big data/data_object_image_2/training/image_2'"
   ]
  },
  {
   "cell_type": "code",
   "execution_count": 3,
   "metadata": {},
   "outputs": [],
   "source": [
    "import os"
   ]
  },
  {
   "cell_type": "code",
   "execution_count": 4,
   "metadata": {},
   "outputs": [],
   "source": [
    "label_set = {'Car':0, 'Van':1, 'Truck':2,'Pedestrian':3, 'Person_sitting':4, 'Cyclist':5, 'Tram':6,'Misc':7} "
   ]
  },
  {
   "cell_type": "code",
   "execution_count": 6,
   "metadata": {},
   "outputs": [
    {
     "data": {
      "application/vnd.jupyter.widget-view+json": {
       "model_id": "6dfb4238d1484dd0ad13d7405f190b50",
       "version_major": 2,
       "version_minor": 0
      },
      "text/plain": [
       "HBox(children=(FloatProgress(value=0.0, max=7481.0), HTML(value='')))"
      ]
     },
     "metadata": {},
     "output_type": "display_data"
    },
    {
     "name": "stdout",
     "output_type": "stream",
     "text": [
      "\n",
      "work done!\n"
     ]
    }
   ],
   "source": [
    "for i in tqdm(range(7481)):\n",
    "    file  = os.path.join(path, \"%06d.txt\" % (i))\n",
    "    pfile = os.path.join(ppath,\"%06d.png\" % (i))\n",
    "    image=Image.open(pfile)\n",
    "    img_width = image.size[0]\n",
    "    img_height = image.size[1]\n",
    "    res = ''\n",
    "    with open(file,'r',encoding='utf-8') as f:\n",
    "        lines = f.readlines()\n",
    "        for line in lines:\n",
    "            l_res = []\n",
    "            l = line.split()\n",
    "            if l[0] == 'DontCare':\n",
    "                continue\n",
    "            else :\n",
    "                l_res.append(label_set[l[0]])\n",
    "            dw = 1./img_width\n",
    "            dh = 1./img_height\n",
    "            l4 = float(l[4])\n",
    "            l5 = float(l[5])\n",
    "            l6 = float(l[6])\n",
    "            l7 = float(l[7])\n",
    "            x_mid = ((l4+l6)/2)*dw\n",
    "            y_mid = ((l5+l7)/2)*dh\n",
    "            l_res.append(x_mid)\n",
    "            l_res.append(y_mid)\n",
    "            x_width = (l6-l4)*dw\n",
    "            y_width = (l7-l5)*dh\n",
    "            l_res.append(x_width)\n",
    "            l_res.append(y_width)\n",
    "            res += \" \".join([str(a) for a in l_res]) + '\\n'\n",
    "    with open(file,'w',encoding='utf-8') as f:\n",
    "        f.write(res)\n",
    "    \n",
    "\n",
    "    \n",
    "print(\"work done!\")\n",
    "    "
   ]
  },
  {
   "cell_type": "code",
   "execution_count": null,
   "metadata": {},
   "outputs": [],
   "source": []
  }
 ],
 "metadata": {
  "kernelspec": {
   "display_name": "tf_gpu",
   "language": "python",
   "name": "tensorflow"
  },
  "language_info": {
   "codemirror_mode": {
    "name": "ipython",
    "version": 3
   },
   "file_extension": ".py",
   "mimetype": "text/x-python",
   "name": "python",
   "nbconvert_exporter": "python",
   "pygments_lexer": "ipython3",
   "version": "3.6.10"
  }
 },
 "nbformat": 4,
 "nbformat_minor": 2
}
